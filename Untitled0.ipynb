{
  "nbformat": 4,
  "nbformat_minor": 0,
  "metadata": {
    "colab": {
      "provenance": []
    },
    "kernelspec": {
      "name": "python3",
      "display_name": "Python 3"
    },
    "language_info": {
      "name": "python"
    }
  },
  "cells": [
    {
      "cell_type": "code",
      "execution_count": null,
      "metadata": {
        "id": "7ZmZ4FE0qUC7"
      },
      "outputs": [],
      "source": [
        "import numpy as np\n",
        "import pandas as pd\n",
        "import matplotlib as mpl"
      ]
    },
    {
      "cell_type": "code",
      "source": [
        "df = pd.DataFrame({'Tipovivienda':['Casa','Apartamento','Apartaestudio'],'precio':[2500000,2000000,1400000],'area':[120,70,40]})"
      ],
      "metadata": {
        "id": "DkqdeT2JsFyc"
      },
      "execution_count": null,
      "outputs": []
    },
    {
      "cell_type": "code",
      "source": [
        "print(df)"
      ],
      "metadata": {
        "colab": {
          "base_uri": "https://localhost:8080/"
        },
        "id": "e050c4zdtgow",
        "outputId": "13b6c511-a9b4-4069-ef2c-b7fd972c7c93"
      },
      "execution_count": null,
      "outputs": [
        {
          "output_type": "stream",
          "name": "stdout",
          "text": [
            "    Tipovivienda   precio  area\n",
            "0           Casa  2500000   120\n",
            "1    Apartamento  2000000    70\n",
            "2  Apartaestudio  1400000    40\n"
          ]
        }
      ]
    },
    {
      "cell_type": "code",
      "source": [
        "print(df[['Tipovivienda','precio']])"
      ],
      "metadata": {
        "colab": {
          "base_uri": "https://localhost:8080/"
        },
        "id": "0BsOvTlLtj3U",
        "outputId": "9da1fcc9-b369-4df2-b96d-e7c055a5c947"
      },
      "execution_count": null,
      "outputs": [
        {
          "output_type": "stream",
          "name": "stdout",
          "text": [
            "    Tipovivienda   precio\n",
            "0           Casa  2500000\n",
            "1    Apartamento  2000000\n",
            "2  Apartaestudio  1400000\n"
          ]
        }
      ]
    },
    {
      "cell_type": "code",
      "source": [
        "edades=[25,32,55,72,18]"
      ],
      "metadata": {
        "id": "LfR3QqX6vP-J"
      },
      "execution_count": null,
      "outputs": []
    },
    {
      "cell_type": "code",
      "source": [
        "ver = pd.Series(edades)\n",
        "print(ver)"
      ],
      "metadata": {
        "colab": {
          "base_uri": "https://localhost:8080/"
        },
        "id": "M7c0V-JuvPu9",
        "outputId": "5689a6ab-aba1-4bcb-96ad-f69a992da5d4"
      },
      "execution_count": null,
      "outputs": [
        {
          "output_type": "stream",
          "name": "stdout",
          "text": [
            "0    25\n",
            "1    32\n",
            "2    55\n",
            "3    72\n",
            "4    18\n",
            "dtype: int64\n"
          ]
        }
      ]
    },
    {
      "cell_type": "code",
      "source": [
        "dtf2 = pd.read_CSV('mnist_test.csv')"
      ],
      "metadata": {
        "id": "HsqLnlPQxN9_"
      },
      "execution_count": null,
      "outputs": []
    },
    {
      "cell_type": "code",
      "source": [],
      "metadata": {
        "id": "Zpkq4M-9CMGS"
      },
      "execution_count": null,
      "outputs": []
    }
  ]
}